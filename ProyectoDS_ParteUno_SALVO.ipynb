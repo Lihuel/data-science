{
  "cells": [
    {
      "cell_type": "markdown",
      "metadata": {
        "id": "view-in-github",
        "colab_type": "text"
      },
      "source": [
        "<a href=\"https://colab.research.google.com/github/Lihuel/data-science/blob/main/ProyectoDS_ParteUno_SALVO.ipynb\" target=\"_parent\"><img src=\"https://colab.research.google.com/assets/colab-badge.svg\" alt=\"Open In Colab\"/></a>"
      ]
    },
    {
      "cell_type": "markdown",
      "metadata": {
        "id": "-jyB1JqjoLOE"
      },
      "source": [
        "**ABSTRACT**\n",
        "---\n",
        "**1 - Company -** Es un dato tipo String - Es la empresa que fabrico la laptop.\n",
        "---\n",
        "**2 - Product -** Es un dato tipo String - Es la linea y modelo de la laptop.\n",
        "---\n",
        "**3 - TypeName -** Es un dato tipo String - Type (Notebook, Ultrabook, Gaming, etc.) Es el tipo de laptop.\n",
        "---\n",
        "**4 - Inches -** Es un dato Numerico tipo Float64 - El tamaño de la pantalla en pulgadas.\n",
        "---\n",
        "**5 - ScreenResolution -** Es un dato tipo String - La resolucion maxima que soporta la pantalla de la laptop.\n",
        "---\n",
        "**6 - Cpu -** Es un dato tipo String - Central Processing Unit (CPU) que modelo de microprocesador tiene la laptop.\n",
        "---\n",
        "**7 - Ram -** Es un dato tipo String - La cantidad memoria RAM que tiene la laptop.\n",
        "---\n",
        "**8 - Memory -** Es un dato tipo String - Hard Disk / SSD Memory. El tipo y la cantidad de almacenamiento que tiene la laptop.\n",
        "---\n",
        "**9 - GPU -** Es un dato tipo String - Graphics Processing Units (GPU) Se refiere al modelo de placa de video que tiene la laptop.\n",
        "---\n",
        "**10 - OpSys -** Es un dato tipo String - Si la laptop tiene sistema operativo y cual es.\n",
        "---\n",
        "**11 - Weight -** Es un dato tipo String -  Es el peso en kilo gramos de la Laptop .\n",
        "---\n",
        "**12 - Price_euros -** Es un dato Numerico tipo Float64 - Price (Euro) Es el precio de la laptop en Euros.\n",
        "---\n",
        "\n"
      ]
    },
    {
      "cell_type": "markdown",
      "metadata": {
        "id": "aNEhh8CtxAr1"
      },
      "source": [
        "# Hipotesis planteadas:\n",
        "1. Que compania o empresa tiene las laptops mas caras?\n",
        "---\n",
        "2. Que laptops tiene mayor cantidad de RAM y memoria de almacenamiento?\n",
        "---\n",
        "3. En relacion al costo beneficio cual es la laptop mas economica?\n",
        "---\n",
        "4. Que modelo de laptop es el mas pesado?\n",
        "---\n",
        "5. Que linea de laptop tiene las GPU mas modernas?\n",
        "---\n",
        "6. Que tipo de laptop tienen la pantalla y resolucion mas grandes?\n",
        "---\n",
        "\n",
        "\n",
        "\n",
        "\n",
        "\n",
        "\n"
      ]
    },
    {
      "cell_type": "code",
      "execution_count": null,
      "metadata": {
        "colab": {
          "base_uri": "https://localhost:8080/",
          "height": 206
        },
        "id": "D_hjxQOVxfcL",
        "outputId": "92d37687-75f3-4e0c-eba6-68864bf8b137"
      },
      "outputs": [
        {
          "data": {
            "text/html": [
              "<div>\n",
              "<style scoped>\n",
              "    .dataframe tbody tr th:only-of-type {\n",
              "        vertical-align: middle;\n",
              "    }\n",
              "\n",
              "    .dataframe tbody tr th {\n",
              "        vertical-align: top;\n",
              "    }\n",
              "\n",
              "    .dataframe thead th {\n",
              "        text-align: right;\n",
              "    }\n",
              "</style>\n",
              "<table border=\"1\" class=\"dataframe\">\n",
              "  <thead>\n",
              "    <tr style=\"text-align: right;\">\n",
              "      <th></th>\n",
              "      <th>laptop_ID</th>\n",
              "      <th>Company</th>\n",
              "      <th>Product</th>\n",
              "      <th>TypeName</th>\n",
              "      <th>Inches</th>\n",
              "      <th>ScreenResolution</th>\n",
              "      <th>Cpu</th>\n",
              "      <th>Ram</th>\n",
              "      <th>Memory</th>\n",
              "      <th>Gpu</th>\n",
              "      <th>OpSys</th>\n",
              "      <th>Weight</th>\n",
              "      <th>Price_euros</th>\n",
              "    </tr>\n",
              "  </thead>\n",
              "  <tbody>\n",
              "    <tr>\n",
              "      <th>0</th>\n",
              "      <td>1</td>\n",
              "      <td>Apple</td>\n",
              "      <td>MacBook Pro</td>\n",
              "      <td>Ultrabook</td>\n",
              "      <td>13.3</td>\n",
              "      <td>IPS Panel Retina Display 2560x1600</td>\n",
              "      <td>Intel Core i5 2.3GHz</td>\n",
              "      <td>8GB</td>\n",
              "      <td>128GB SSD</td>\n",
              "      <td>Intel Iris Plus Graphics 640</td>\n",
              "      <td>macOS</td>\n",
              "      <td>1.37kg</td>\n",
              "      <td>1339.69</td>\n",
              "    </tr>\n",
              "    <tr>\n",
              "      <th>1</th>\n",
              "      <td>2</td>\n",
              "      <td>Apple</td>\n",
              "      <td>Macbook Air</td>\n",
              "      <td>Ultrabook</td>\n",
              "      <td>13.3</td>\n",
              "      <td>1440x900</td>\n",
              "      <td>Intel Core i5 1.8GHz</td>\n",
              "      <td>8GB</td>\n",
              "      <td>128GB Flash Storage</td>\n",
              "      <td>Intel HD Graphics 6000</td>\n",
              "      <td>macOS</td>\n",
              "      <td>1.34kg</td>\n",
              "      <td>898.94</td>\n",
              "    </tr>\n",
              "    <tr>\n",
              "      <th>2</th>\n",
              "      <td>3</td>\n",
              "      <td>HP</td>\n",
              "      <td>250 G6</td>\n",
              "      <td>Notebook</td>\n",
              "      <td>15.6</td>\n",
              "      <td>Full HD 1920x1080</td>\n",
              "      <td>Intel Core i5 7200U 2.5GHz</td>\n",
              "      <td>8GB</td>\n",
              "      <td>256GB SSD</td>\n",
              "      <td>Intel HD Graphics 620</td>\n",
              "      <td>No OS</td>\n",
              "      <td>1.86kg</td>\n",
              "      <td>575.00</td>\n",
              "    </tr>\n",
              "    <tr>\n",
              "      <th>3</th>\n",
              "      <td>4</td>\n",
              "      <td>Apple</td>\n",
              "      <td>MacBook Pro</td>\n",
              "      <td>Ultrabook</td>\n",
              "      <td>15.4</td>\n",
              "      <td>IPS Panel Retina Display 2880x1800</td>\n",
              "      <td>Intel Core i7 2.7GHz</td>\n",
              "      <td>16GB</td>\n",
              "      <td>512GB SSD</td>\n",
              "      <td>AMD Radeon Pro 455</td>\n",
              "      <td>macOS</td>\n",
              "      <td>1.83kg</td>\n",
              "      <td>2537.45</td>\n",
              "    </tr>\n",
              "    <tr>\n",
              "      <th>4</th>\n",
              "      <td>5</td>\n",
              "      <td>Apple</td>\n",
              "      <td>MacBook Pro</td>\n",
              "      <td>Ultrabook</td>\n",
              "      <td>13.3</td>\n",
              "      <td>IPS Panel Retina Display 2560x1600</td>\n",
              "      <td>Intel Core i5 3.1GHz</td>\n",
              "      <td>8GB</td>\n",
              "      <td>256GB SSD</td>\n",
              "      <td>Intel Iris Plus Graphics 650</td>\n",
              "      <td>macOS</td>\n",
              "      <td>1.37kg</td>\n",
              "      <td>1803.60</td>\n",
              "    </tr>\n",
              "  </tbody>\n",
              "</table>\n",
              "</div>"
            ],
            "text/plain": [
              "   laptop_ID Company      Product   TypeName  Inches   \n",
              "0          1   Apple  MacBook Pro  Ultrabook    13.3  \\\n",
              "1          2   Apple  Macbook Air  Ultrabook    13.3   \n",
              "2          3      HP       250 G6   Notebook    15.6   \n",
              "3          4   Apple  MacBook Pro  Ultrabook    15.4   \n",
              "4          5   Apple  MacBook Pro  Ultrabook    13.3   \n",
              "\n",
              "                     ScreenResolution                         Cpu   Ram   \n",
              "0  IPS Panel Retina Display 2560x1600        Intel Core i5 2.3GHz   8GB  \\\n",
              "1                            1440x900        Intel Core i5 1.8GHz   8GB   \n",
              "2                   Full HD 1920x1080  Intel Core i5 7200U 2.5GHz   8GB   \n",
              "3  IPS Panel Retina Display 2880x1800        Intel Core i7 2.7GHz  16GB   \n",
              "4  IPS Panel Retina Display 2560x1600        Intel Core i5 3.1GHz   8GB   \n",
              "\n",
              "                Memory                           Gpu  OpSys  Weight   \n",
              "0            128GB SSD  Intel Iris Plus Graphics 640  macOS  1.37kg  \\\n",
              "1  128GB Flash Storage        Intel HD Graphics 6000  macOS  1.34kg   \n",
              "2            256GB SSD         Intel HD Graphics 620  No OS  1.86kg   \n",
              "3            512GB SSD            AMD Radeon Pro 455  macOS  1.83kg   \n",
              "4            256GB SSD  Intel Iris Plus Graphics 650  macOS  1.37kg   \n",
              "\n",
              "   Price_euros  \n",
              "0      1339.69  \n",
              "1       898.94  \n",
              "2       575.00  \n",
              "3      2537.45  \n",
              "4      1803.60  "
            ]
          },
          "execution_count": 35,
          "metadata": {},
          "output_type": "execute_result"
        }
      ],
      "source": [
        "import numpy as np\n",
        "import pandas as pd\n",
        "import matplotlib as mpl\n",
        "import matplotlib.pyplot as plt\n",
        "import seaborn as sns\n",
        "url = 'https://raw.githubusercontent.com/Lihuel/data-science/main/laptop_price-original.csv'\n",
        "df = pd.read_csv(url, encoding=\"ISO-8859-1\")\n",
        "df.head()"
      ]
    },
    {
      "cell_type": "code",
      "execution_count": null,
      "metadata": {
        "colab": {
          "base_uri": "https://localhost:8080/"
        },
        "id": "fIx2CIL5pv5l",
        "outputId": "f6d18786-c584-4652-96dc-decfd2d40c68"
      },
      "outputs": [
        {
          "name": "stdout",
          "output_type": "stream",
          "text": [
            "<class 'pandas.core.frame.DataFrame'>\n",
            "RangeIndex: 1303 entries, 0 to 1302\n",
            "Data columns (total 13 columns):\n",
            " #   Column            Non-Null Count  Dtype  \n",
            "---  ------            --------------  -----  \n",
            " 0   laptop_ID         1303 non-null   int64  \n",
            " 1   Company           1303 non-null   object \n",
            " 2   Product           1303 non-null   object \n",
            " 3   TypeName          1303 non-null   object \n",
            " 4   Inches            1303 non-null   float64\n",
            " 5   ScreenResolution  1303 non-null   object \n",
            " 6   Cpu               1303 non-null   object \n",
            " 7   Ram               1303 non-null   object \n",
            " 8   Memory            1303 non-null   object \n",
            " 9   Gpu               1303 non-null   object \n",
            " 10  OpSys             1303 non-null   object \n",
            " 11  Weight            1303 non-null   object \n",
            " 12  Price_euros       1303 non-null   float64\n",
            "dtypes: float64(2), int64(1), object(10)\n",
            "memory usage: 132.5+ KB\n"
          ]
        }
      ],
      "source": [
        "df.info()"
      ]
    },
    {
      "cell_type": "code",
      "execution_count": null,
      "metadata": {
        "colab": {
          "base_uri": "https://localhost:8080/"
        },
        "id": "vdqS217At5Js",
        "outputId": "a9293d73-fda4-4483-bcc8-41293e6c3e5d"
      },
      "outputs": [
        {
          "data": {
            "text/plain": [
              "(1303, 13)"
            ]
          },
          "execution_count": 4,
          "metadata": {},
          "output_type": "execute_result"
        }
      ],
      "source": [
        "df.shape"
      ]
    },
    {
      "cell_type": "code",
      "execution_count": null,
      "metadata": {
        "id": "nXJjXkib0Y62",
        "outputId": "6a210204-f926-4fe4-faaf-5d9672adc115"
      },
      "outputs": [
        {
          "data": {
            "text/html": [
              "<div>\n",
              "<style scoped>\n",
              "    .dataframe tbody tr th:only-of-type {\n",
              "        vertical-align: middle;\n",
              "    }\n",
              "\n",
              "    .dataframe tbody tr th {\n",
              "        vertical-align: top;\n",
              "    }\n",
              "\n",
              "    .dataframe thead th {\n",
              "        text-align: right;\n",
              "    }\n",
              "</style>\n",
              "<table border=\"1\" class=\"dataframe\">\n",
              "  <thead>\n",
              "    <tr style=\"text-align: right;\">\n",
              "      <th></th>\n",
              "      <th>laptop_ID</th>\n",
              "      <th>Inches</th>\n",
              "      <th>Price_euros</th>\n",
              "    </tr>\n",
              "  </thead>\n",
              "  <tbody>\n",
              "    <tr>\n",
              "      <th>count</th>\n",
              "      <td>1303.0</td>\n",
              "      <td>1303.0</td>\n",
              "      <td>1303.0</td>\n",
              "    </tr>\n",
              "    <tr>\n",
              "      <th>mean</th>\n",
              "      <td>660.2</td>\n",
              "      <td>15.0</td>\n",
              "      <td>1123.7</td>\n",
              "    </tr>\n",
              "    <tr>\n",
              "      <th>std</th>\n",
              "      <td>381.2</td>\n",
              "      <td>1.4</td>\n",
              "      <td>699.0</td>\n",
              "    </tr>\n",
              "    <tr>\n",
              "      <th>min</th>\n",
              "      <td>1.0</td>\n",
              "      <td>10.1</td>\n",
              "      <td>174.0</td>\n",
              "    </tr>\n",
              "    <tr>\n",
              "      <th>25%</th>\n",
              "      <td>331.5</td>\n",
              "      <td>14.0</td>\n",
              "      <td>599.0</td>\n",
              "    </tr>\n",
              "    <tr>\n",
              "      <th>50%</th>\n",
              "      <td>659.0</td>\n",
              "      <td>15.6</td>\n",
              "      <td>977.0</td>\n",
              "    </tr>\n",
              "    <tr>\n",
              "      <th>75%</th>\n",
              "      <td>990.5</td>\n",
              "      <td>15.6</td>\n",
              "      <td>1487.9</td>\n",
              "    </tr>\n",
              "    <tr>\n",
              "      <th>max</th>\n",
              "      <td>1320.0</td>\n",
              "      <td>18.4</td>\n",
              "      <td>6099.0</td>\n",
              "    </tr>\n",
              "  </tbody>\n",
              "</table>\n",
              "</div>"
            ],
            "text/plain": [
              "       laptop_ID  Inches  Price_euros\n",
              "count     1303.0  1303.0       1303.0\n",
              "mean       660.2    15.0       1123.7\n",
              "std        381.2     1.4        699.0\n",
              "min          1.0    10.1        174.0\n",
              "25%        331.5    14.0        599.0\n",
              "50%        659.0    15.6        977.0\n",
              "75%        990.5    15.6       1487.9\n",
              "max       1320.0    18.4       6099.0"
            ]
          },
          "execution_count": 5,
          "metadata": {},
          "output_type": "execute_result"
        }
      ],
      "source": [
        "df.describe().round(1)"
      ]
    },
    {
      "cell_type": "code",
      "execution_count": null,
      "metadata": {
        "id": "E9V94U7M0Y62"
      },
      "outputs": [],
      "source": [
        "df.drop('laptop_ID',\n",
        "  axis='columns', inplace=True)"
      ]
    },
    {
      "cell_type": "code",
      "execution_count": null,
      "metadata": {
        "id": "PzPdSLha0Y62",
        "outputId": "610bd9dc-997e-43c1-e243-c6abeacd4b88"
      },
      "outputs": [
        {
          "name": "stdout",
          "output_type": "stream",
          "text": [
            "<class 'pandas.core.frame.DataFrame'>\n",
            "RangeIndex: 1303 entries, 0 to 1302\n",
            "Data columns (total 12 columns):\n",
            " #   Column            Non-Null Count  Dtype  \n",
            "---  ------            --------------  -----  \n",
            " 0   Company           1303 non-null   object \n",
            " 1   Product           1303 non-null   object \n",
            " 2   TypeName          1303 non-null   object \n",
            " 3   Inches            1303 non-null   float64\n",
            " 4   ScreenResolution  1303 non-null   object \n",
            " 5   Cpu               1303 non-null   object \n",
            " 6   Ram               1303 non-null   object \n",
            " 7   Memory            1303 non-null   object \n",
            " 8   Gpu               1303 non-null   object \n",
            " 9   OpSys             1303 non-null   object \n",
            " 10  Weight            1303 non-null   object \n",
            " 11  Price_euros       1303 non-null   float64\n",
            "dtypes: float64(2), object(10)\n",
            "memory usage: 122.3+ KB\n"
          ]
        }
      ],
      "source": [
        "df.info()\n"
      ]
    },
    {
      "cell_type": "code",
      "execution_count": null,
      "metadata": {
        "colab": {
          "base_uri": "https://localhost:8080/"
        },
        "id": "MdaFnHw2smow",
        "outputId": "4198f4c1-1bb9-48dd-d54b-e9ee9ed95630"
      },
      "outputs": [
        {
          "data": {
            "text/plain": [
              "Company             0\n",
              "Product             0\n",
              "TypeName            0\n",
              "Inches              0\n",
              "ScreenResolution    0\n",
              "Cpu                 0\n",
              "Ram                 0\n",
              "Memory              0\n",
              "Gpu                 0\n",
              "OpSys               0\n",
              "Weight              0\n",
              "Price_euros         0\n",
              "dtype: int64"
            ]
          },
          "execution_count": 8,
          "metadata": {},
          "output_type": "execute_result"
        }
      ],
      "source": [
        "# Checkeamos si hay algun valor nulo\n",
        "df.isna().sum()"
      ]
    },
    {
      "cell_type": "code",
      "execution_count": null,
      "metadata": {
        "id": "M57ZoPYJ0Y63",
        "outputId": "8aa81b29-741e-479e-b21d-e7f5f22a733e"
      },
      "outputs": [
        {
          "data": {
            "text/plain": [
              "Text(0, 0.5, 'Precio en Euros')"
            ]
          },
          "execution_count": 90,
          "metadata": {},
          "output_type": "execute_result"
        },
        {
          "data": {
            "image/png": "[encoded data removed]",
            "text/plain": [
              "<Figure size 640x320 with 1 Axes>"
            ]
          },
          "metadata": {},
          "output_type": "display_data"
        }
      ],
      "source": [
        "# Realizo un boxplot de todos los precios para ver si hay outliers\n",
        "fig, ax = plt.subplots(figsize=(8, 4))\n",
        "ax.boxplot(df.Price_euros, vert=True)\n",
        "ax.set_title('Boxplot de Precios de laptop')\n",
        "ax.set_xlabel('Total de laptops')\n",
        "ax.set_ylabel('Precio en Euros')\n"
      ]
    },
    {
      "cell_type": "code",
      "execution_count": null,
      "metadata": {
        "id": "0wpwjl9g0Y63",
        "outputId": "9027067f-97ee-4766-9195-984990be18c0"
      },
      "outputs": [
        {
          "name": "stdout",
          "output_type": "stream",
          "text": [
            "    Company       Product     TypeName  Inches   \n",
            "196   Razer     Blade Pro       Gaming    17.3  \\\n",
            "610  Lenovo  Thinkpad P51     Notebook    15.6   \n",
            "749      HP      Zbook 17  Workstation    17.3   \n",
            "830   Razer     Blade Pro       Gaming    17.3   \n",
            "\n",
            "                        ScreenResolution                            Cpu   Ram   \n",
            "196  4K Ultra HD / Touchscreen 3840x2160    Intel Core i7 7820HK 2.9GHz  32GB  \\\n",
            "610      IPS Panel 4K Ultra HD 3840x2160  Intel Xeon E3-1535M v6 3.1GHz  32GB   \n",
            "749          IPS Panel Full HD 1920x1080  Intel Xeon E3-1535M v5 2.9GHz  16GB   \n",
            "830  4K Ultra HD / Touchscreen 3840x2160    Intel Core i7 7820HK 2.9GHz  32GB   \n",
            "\n",
            "        Memory                      Gpu       OpSys  Weight  Price_euros  \n",
            "196    1TB SSD  Nvidia GeForce GTX 1080  Windows 10  3.49kg       6099.0  \n",
            "610    1TB SSD     Nvidia Quadro M2200M  Windows 10   2.5kg       4899.0  \n",
            "749  256GB SSD     Nvidia Quadro M2000M   Windows 7     3kg       4389.0  \n",
            "830  512GB SSD  Nvidia GeForce GTX 1080  Windows 10  3.49kg       5499.0  \n"
          ]
        }
      ],
      "source": [
        "# Analizando el boxplot busco los 4 valores extremos para chequearlos el resto de sus datos\n",
        "filtered_df = df[df[\"Price_euros\"] > 4000]\n",
        "print(filtered_df)\n",
        "# Analizando las caracteristicas de los valores extremos, se puede tomar la decision que precio es bastante correcto.\n",
        "# Por lo que se llega a la conclusion que el dataset no tiene ni valores nulos, ni valores mal cargados."
      ]
    },
    {
      "cell_type": "code",
      "execution_count": null,
      "metadata": {
        "id": "5gEUF-Yv0Y63",
        "outputId": "5f655281-87fd-4b50-a2fe-d7c6c2e6e344"
      },
      "outputs": [
        {
          "name": "stdout",
          "output_type": "stream",
          "text": [
            "Company\n",
            "Dell         297\n",
            "Lenovo       297\n",
            "HP           274\n",
            "Asus         158\n",
            "Acer         103\n",
            "MSI           54\n",
            "Toshiba       48\n",
            "Apple         21\n",
            "Samsung        9\n",
            "Razer          7\n",
            "Mediacom       7\n",
            "Microsoft      6\n",
            "Xiaomi         4\n",
            "Vero           4\n",
            "Chuwi          3\n",
            "Google         3\n",
            "Fujitsu        3\n",
            "LG             3\n",
            "Huawei         2\n",
            "Name: count, dtype: int64\n"
          ]
        },
        {
          "data": {
            "image/png": "[encoded data removed]",
            "text/plain": [
              "<Figure size 1200x1600 with 1 Axes>"
            ]
          },
          "metadata": {},
          "output_type": "display_data"
        }
      ],
      "source": [
        "# Laptop por empresa\n",
        "mpl.style.use('classic')\n",
        "fig, ax = plt.subplots(figsize=(15, 20))\n",
        "ax.hist(x= df.Company, bins=50, orientation='horizontal', color= \"red\" , alpha=0.5, edgecolor='black')\n",
        "ax.set_xlabel(\"Cantidad de laptops\", fontsize=10, color='blue')\n",
        "ax.set_ylabel('Compania', fontsize=10, color='blue')\n",
        "ax.set_title('Cantidad de laptop por compania')\n",
        "print(df.Company.value_counts())"
      ]
    },
    {
      "cell_type": "code",
      "execution_count": null,
      "metadata": {
        "id": "O0shgQ860Y63",
        "outputId": "c58e7fff-8515-4daf-bf8c-ff7315c98836"
      },
      "outputs": [
        {
          "name": "stdout",
          "output_type": "stream",
          "text": [
            "Company\n",
            "Acer         2599.00\n",
            "Apple        2858.00\n",
            "Asus         3975.00\n",
            "Chuwi         449.00\n",
            "Dell         3659.40\n",
            "Fujitsu       799.00\n",
            "Google       2199.00\n",
            "HP           4389.00\n",
            "Huawei       1499.00\n",
            "LG           2299.00\n",
            "Lenovo       4899.00\n",
            "MSI          2799.00\n",
            "Mediacom      389.00\n",
            "Microsoft    2589.00\n",
            "Razer        6099.00\n",
            "Samsung      1849.00\n",
            "Toshiba      2799.00\n",
            "Vero          260.00\n",
            "Xiaomi       1399.95\n",
            "Name: Price_euros, dtype: float64\n",
            "Company\n",
            "Acer          626.775825\n",
            "Apple        1564.198571\n",
            "Asus         1104.169367\n",
            "Chuwi         314.296667\n",
            "Dell         1186.068990\n",
            "Fujitsu       729.000000\n",
            "Google       1677.666667\n",
            "HP           1067.774854\n",
            "Huawei       1424.000000\n",
            "LG           2099.000000\n",
            "Lenovo       1086.384444\n",
            "MSI          1728.908148\n",
            "Mediacom      295.000000\n",
            "Microsoft    1612.308333\n",
            "Razer        3346.142857\n",
            "Samsung      1413.444444\n",
            "Toshiba      1267.812500\n",
            "Vero          217.425000\n",
            "Xiaomi       1133.462500\n",
            "Name: Price_euros, dtype: float64\n"
          ]
        },
        {
          "data": {
            "text/plain": [
              "<Axes: xlabel='Valor Medio', ylabel='Company'>"
            ]
          },
          "execution_count": 142,
          "metadata": {},
          "output_type": "execute_result"
        },
        {
          "data": {
            "image/png": "[encoded data removed]",
            "text/plain": [
              "<Figure size 640x480 with 1 Axes>"
            ]
          },
          "metadata": {},
          "output_type": "display_data"
        }
      ],
      "source": [
        "# valor mas caro de Laptop por empresa\n",
        "df_by_company_price = df.groupby('Company')\n",
        "print(df_by_company_price['Price_euros'].max())\n",
        "# valor medio calculado\n",
        "print(df.groupby('Company')[\"Price_euros\"].mean())\n",
        "df_media = df.groupby('Company')[\"Price_euros\"].mean()\n",
        "df[\"Valor Medio\"] = df[\"Company\"].map(df_media)\n",
        "# Grafico de barras\n",
        "# Axis-level\n",
        "sns.barplot(data=df, x=\"Valor Medio\",y=\"Company\", orient=\"h\")\n",
        "# Viendo el grafico de barras de valor medio de laptop por empresa, podemos responder la primera hipotesis, donde las laptops de Razer son las mas caras."
      ]
    },
    {
      "cell_type": "code",
      "execution_count": null,
      "metadata": {
        "id": "SeK7MKuv0Y64",
        "outputId": "bfbfd5a3-573e-4228-fdf3-248538600d4a"
      },
      "outputs": [
        {
          "name": "stdout",
          "output_type": "stream",
          "text": [
            "Company\n",
            "Acer          4.2kg\n",
            "Apple        2.04kg\n",
            "Asus            4kg\n",
            "Chuwi        1.89kg\n",
            "Dell         4.42kg\n",
            "Fujitsu       2.3kg\n",
            "Google        1.1kg\n",
            "HP              3kg\n",
            "Huawei       1.05kg\n",
            "LG           1.09kg\n",
            "Lenovo        4.6kg\n",
            "MSI           4.5kg\n",
            "Mediacom      1.4kg\n",
            "Microsoft    1.25kg\n",
            "Razer        3.49kg\n",
            "Samsung       2.5kg\n",
            "Toshiba         2kg\n",
            "Vero         1.45kg\n",
            "Xiaomi       1.95kg\n",
            "Name: Weight, dtype: object\n"
          ]
        },
        {
          "data": {
            "text/plain": [
              "Text(0.5, 0, 'Peso en KG')"
            ]
          },
          "execution_count": 173,
          "metadata": {},
          "output_type": "execute_result"
        },
        {
          "data": {
            "image/png": "[encoded data removed]",
            "text/plain": [
              "<Figure size 2000x800 with 1 Axes>"
            ]
          },
          "metadata": {},
          "output_type": "display_data"
        }
      ],
      "source": [
        "# Laptop mas pesada en kg por empresa\n",
        "df_pesada = df.groupby('Company')[\"Weight\"].max()\n",
        "print(df_pesada)\n",
        "df[\"laptop mas pesada\"] = df[\"Company\"].map(df_pesada)\n",
        "df['laptop mas pesada'] = df['laptop mas pesada'].str.replace('kg','').astype(np.float64)\n",
        "# Grafico de barras de los diferentes pesos por empresa\n",
        "fig, ax = plt.subplots(figsize=(25,10))\n",
        "ax.bar(x=df.Company , height=df[\"laptop mas pesada\"] , color= \"red\" , alpha=0.5, edgecolor='black')\n",
        "ax.set_title('Laptop mas pesada por Compania')\n",
        "ax.set_ylabel('Companias')\n",
        "ax.set_xlabel('Peso en KG')\n",
        "# Analizando el grafico podemos ver la laptop mas pesada la tiene la empresa lenovo con un peso de 4.6kg\n"
      ]
    },
    {
      "cell_type": "code",
      "execution_count": null,
      "metadata": {
        "id": "aI55W3bV0Y64",
        "outputId": "583e8820-ba9a-41c7-d398-27ae33f12ad4"
      },
      "outputs": [
        {
          "name": "stdout",
          "output_type": "stream",
          "text": [
            "Company\n",
            "Acer         8GB\n",
            "Apple        8GB\n",
            "Asus         8GB\n",
            "Chuwi        6GB\n",
            "Dell         8GB\n",
            "Fujitsu      8GB\n",
            "Google       8GB\n",
            "HP           8GB\n",
            "Huawei       8GB\n",
            "LG           8GB\n",
            "Lenovo       8GB\n",
            "MSI          8GB\n",
            "Mediacom     4GB\n",
            "Microsoft    8GB\n",
            "Razer        8GB\n",
            "Samsung      8GB\n",
            "Toshiba      8GB\n",
            "Vero         4GB\n",
            "Xiaomi       8GB\n",
            "Name: Ram, dtype: object\n",
            "Company\n",
            "Acer                             500GB HDD\n",
            "Apple                            512GB SSD\n",
            "Asus                              64GB SSD\n",
            "Chuwi                   64GB Flash Storage\n",
            "Dell         64GB Flash Storage +  1TB HDD\n",
            "Fujitsu                          256GB SSD\n",
            "Google                           512GB SSD\n",
            "HP                                 8GB SSD\n",
            "Huawei                           512GB SSD\n",
            "LG                               512GB SSD\n",
            "Lenovo                  64GB Flash Storage\n",
            "MSI                   512GB SSD +  2TB HDD\n",
            "Mediacom                          32GB SSD\n",
            "Microsoft                        512GB SSD\n",
            "Razer                            512GB SSD\n",
            "Samsung                 32GB Flash Storage\n",
            "Toshiba                          512GB SSD\n",
            "Vero                    32GB Flash Storage\n",
            "Xiaomi                           256GB SSD\n",
            "Name: Memory, dtype: object\n"
          ]
        }
      ],
      "source": [
        "df_Mayor_RAM = df.groupby('Company')[\"Ram\"].max()\n",
        "print(df_Mayor_RAM)\n",
        "df[\"Mayor_RAM\"] = df[\"Company\"].map(df_Mayor_RAM)\n",
        "df['Mayor_RAM'] = df['Mayor_RAM'].str.replace('GB','').astype(np.float64)\n",
        "df_Mayor_ROM = df.groupby('Company')[\"Memory\"].max()\n",
        "print(df_Mayor_ROM)\n",
        "df[\"Mayor_ROM\"] = df[\"Company\"].map(df_Mayor_ROM)\n",
        "df['Mayor_ROM'] = df['Mayor_ROM'].str.replace('GB','',n=all).astype(np.float64)\n",
        "\n"
      ]
    },
    {
      "cell_type": "code",
      "execution_count": null,
      "metadata": {
        "id": "N4oXCrlh0Y64",
        "outputId": "da98dfbf-b54b-4d8c-bd95-5f5111e8b7e4"
      },
      "outputs": [
        {
          "data": {
            "text/html": [
              "<div>\n",
              "<style scoped>\n",
              "    .dataframe tbody tr th:only-of-type {\n",
              "        vertical-align: middle;\n",
              "    }\n",
              "\n",
              "    .dataframe tbody tr th {\n",
              "        vertical-align: top;\n",
              "    }\n",
              "\n",
              "    .dataframe thead th {\n",
              "        text-align: right;\n",
              "    }\n",
              "</style>\n",
              "<table border=\"1\" class=\"dataframe\">\n",
              "  <thead>\n",
              "    <tr style=\"text-align: right;\">\n",
              "      <th></th>\n",
              "      <th>Company</th>\n",
              "      <th>Product</th>\n",
              "      <th>TypeName</th>\n",
              "      <th>Inches</th>\n",
              "      <th>ScreenResolution</th>\n",
              "      <th>Cpu</th>\n",
              "      <th>Ram</th>\n",
              "      <th>Memory</th>\n",
              "      <th>Gpu</th>\n",
              "      <th>OpSys</th>\n",
              "      <th>Weight</th>\n",
              "      <th>Price_euros</th>\n",
              "      <th>Valor Medio</th>\n",
              "      <th>laptop mas pesada</th>\n",
              "      <th>Mayor_RAM</th>\n",
              "      <th>Mayor_ROM</th>\n",
              "    </tr>\n",
              "  </thead>\n",
              "  <tbody>\n",
              "    <tr>\n",
              "      <th>0</th>\n",
              "      <td>Apple</td>\n",
              "      <td>MacBook Pro</td>\n",
              "      <td>Ultrabook</td>\n",
              "      <td>13.3</td>\n",
              "      <td>IPS Panel Retina Display 2560x1600</td>\n",
              "      <td>Intel Core i5 2.3GHz</td>\n",
              "      <td>8GB</td>\n",
              "      <td>128GB SSD</td>\n",
              "      <td>Intel Iris Plus Graphics 640</td>\n",
              "      <td>macOS</td>\n",
              "      <td>1.37kg</td>\n",
              "      <td>1339.69</td>\n",
              "      <td>1564.198571</td>\n",
              "      <td>2.04</td>\n",
              "      <td>8.0</td>\n",
              "      <td>NaN</td>\n",
              "    </tr>\n",
              "    <tr>\n",
              "      <th>1</th>\n",
              "      <td>Apple</td>\n",
              "      <td>Macbook Air</td>\n",
              "      <td>Ultrabook</td>\n",
              "      <td>13.3</td>\n",
              "      <td>1440x900</td>\n",
              "      <td>Intel Core i5 1.8GHz</td>\n",
              "      <td>8GB</td>\n",
              "      <td>128GB Flash Storage</td>\n",
              "      <td>Intel HD Graphics 6000</td>\n",
              "      <td>macOS</td>\n",
              "      <td>1.34kg</td>\n",
              "      <td>898.94</td>\n",
              "      <td>1564.198571</td>\n",
              "      <td>2.04</td>\n",
              "      <td>8.0</td>\n",
              "      <td>NaN</td>\n",
              "    </tr>\n",
              "    <tr>\n",
              "      <th>2</th>\n",
              "      <td>HP</td>\n",
              "      <td>250 G6</td>\n",
              "      <td>Notebook</td>\n",
              "      <td>15.6</td>\n",
              "      <td>Full HD 1920x1080</td>\n",
              "      <td>Intel Core i5 7200U 2.5GHz</td>\n",
              "      <td>8GB</td>\n",
              "      <td>256GB SSD</td>\n",
              "      <td>Intel HD Graphics 620</td>\n",
              "      <td>No OS</td>\n",
              "      <td>1.86kg</td>\n",
              "      <td>575.00</td>\n",
              "      <td>1067.774854</td>\n",
              "      <td>3.00</td>\n",
              "      <td>8.0</td>\n",
              "      <td>NaN</td>\n",
              "    </tr>\n",
              "    <tr>\n",
              "      <th>3</th>\n",
              "      <td>Apple</td>\n",
              "      <td>MacBook Pro</td>\n",
              "      <td>Ultrabook</td>\n",
              "      <td>15.4</td>\n",
              "      <td>IPS Panel Retina Display 2880x1800</td>\n",
              "      <td>Intel Core i7 2.7GHz</td>\n",
              "      <td>16GB</td>\n",
              "      <td>512GB SSD</td>\n",
              "      <td>AMD Radeon Pro 455</td>\n",
              "      <td>macOS</td>\n",
              "      <td>1.83kg</td>\n",
              "      <td>2537.45</td>\n",
              "      <td>1564.198571</td>\n",
              "      <td>2.04</td>\n",
              "      <td>8.0</td>\n",
              "      <td>NaN</td>\n",
              "    </tr>\n",
              "    <tr>\n",
              "      <th>4</th>\n",
              "      <td>Apple</td>\n",
              "      <td>MacBook Pro</td>\n",
              "      <td>Ultrabook</td>\n",
              "      <td>13.3</td>\n",
              "      <td>IPS Panel Retina Display 2560x1600</td>\n",
              "      <td>Intel Core i5 3.1GHz</td>\n",
              "      <td>8GB</td>\n",
              "      <td>256GB SSD</td>\n",
              "      <td>Intel Iris Plus Graphics 650</td>\n",
              "      <td>macOS</td>\n",
              "      <td>1.37kg</td>\n",
              "      <td>1803.60</td>\n",
              "      <td>1564.198571</td>\n",
              "      <td>2.04</td>\n",
              "      <td>8.0</td>\n",
              "      <td>NaN</td>\n",
              "    </tr>\n",
              "  </tbody>\n",
              "</table>\n",
              "</div>"
            ],
            "text/plain": [
              "  Company      Product   TypeName  Inches                    ScreenResolution   \n",
              "0   Apple  MacBook Pro  Ultrabook    13.3  IPS Panel Retina Display 2560x1600  \\\n",
              "1   Apple  Macbook Air  Ultrabook    13.3                            1440x900   \n",
              "2      HP       250 G6   Notebook    15.6                   Full HD 1920x1080   \n",
              "3   Apple  MacBook Pro  Ultrabook    15.4  IPS Panel Retina Display 2880x1800   \n",
              "4   Apple  MacBook Pro  Ultrabook    13.3  IPS Panel Retina Display 2560x1600   \n",
              "\n",
              "                          Cpu   Ram               Memory   \n",
              "0        Intel Core i5 2.3GHz   8GB            128GB SSD  \\\n",
              "1        Intel Core i5 1.8GHz   8GB  128GB Flash Storage   \n",
              "2  Intel Core i5 7200U 2.5GHz   8GB            256GB SSD   \n",
              "3        Intel Core i7 2.7GHz  16GB            512GB SSD   \n",
              "4        Intel Core i5 3.1GHz   8GB            256GB SSD   \n",
              "\n",
              "                            Gpu  OpSys  Weight  Price_euros  Valor Medio   \n",
              "0  Intel Iris Plus Graphics 640  macOS  1.37kg      1339.69  1564.198571  \\\n",
              "1        Intel HD Graphics 6000  macOS  1.34kg       898.94  1564.198571   \n",
              "2         Intel HD Graphics 620  No OS  1.86kg       575.00  1067.774854   \n",
              "3            AMD Radeon Pro 455  macOS  1.83kg      2537.45  1564.198571   \n",
              "4  Intel Iris Plus Graphics 650  macOS  1.37kg      1803.60  1564.198571   \n",
              "\n",
              "   laptop mas pesada  Mayor_RAM  Mayor_ROM  \n",
              "0               2.04        8.0        NaN  \n",
              "1               2.04        8.0        NaN  \n",
              "2               3.00        8.0        NaN  \n",
              "3               2.04        8.0        NaN  \n",
              "4               2.04        8.0        NaN  "
            ]
          },
          "execution_count": 198,
          "metadata": {},
          "output_type": "execute_result"
        }
      ],
      "source": [
        "df.head()"
      ]
    }
  ],
  "metadata": {
    "colab": {
      "provenance": [],
      "include_colab_link": true
    },
    "kernelspec": {
      "display_name": "Python 3",
      "name": "python3"
    },
    "language_info": {
      "codemirror_mode": {
        "name": "ipython",
        "version": 3
      },
      "file_extension": ".py",
      "mimetype": "text/x-python",
      "name": "python",
      "nbconvert_exporter": "python",
      "pygments_lexer": "ipython3",
      "version": "3.11.2"
    }
  },
  "nbformat": 4,
  "nbformat_minor": 0
}